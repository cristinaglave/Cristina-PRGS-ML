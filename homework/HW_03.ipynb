{
 "cells": [
  {
   "cell_type": "markdown",
   "metadata": {},
   "source": [
    "---\n",
    "title: \"Homework 3\"\n",
    "format: html\n",
    "---\n",
    "\n",
    "\n",
    "__Due Date:__ 2022-10-23 at 8:30 AM PT\n",
    "---\n",
    "\n",
    "\n",
    "__Name:__ Cristina Glave\n",
    "\n",
    "\n",
    "## Preparation\n",
    "\n",
    "1. Create a 'code' folder in the root directory of your repository.\n",
    "1. Inside the 'code' folder, create a file '01_clean_data.\\<your_extension_here\\>'.\n",
    "Your extension should be the one you use for your programming language of choice (e.g., '.R' for R, '.py' for Python, '.jl' for Julia).\n",
    "1. Copy any code from HW_02 you need to subset and merge the NRI and SVI datasets into the '01_clean_data' file.\n",
    "1. Add a 'processed' directory to the 'data' folder.\n",
    "1. Add a line at the end of the file that saves the merged dataset to 'data/processed' directory.\n",
    "1. Run the '01_clean_data' file to ensure that the merged dataset runs and creates the proper file.\n",
    "1. Add and commit the '01_clean_data' file to the repository."
   ]
  }
 ],
 "metadata": {
  "language_info": {
   "name": "python"
  }
 },
 "nbformat": 4,
 "nbformat_minor": 2
}
