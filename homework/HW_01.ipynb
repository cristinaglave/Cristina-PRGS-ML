{
 "cells": [
  {
   "cell_type": "markdown",
   "metadata": {},
   "source": [
    "__Title:__ Homework 1\n",
    "Format: html\n",
    "\n",
    "__Name:__ Cristina Glave\n",
    "\n",
    "__Question 1:__ Use a programming language of your choice to save today's date to a variable.\n",
    "Then, include the date in the text below the code block."
   ]
  },
  {
   "cell_type": "code",
   "execution_count": 2,
   "metadata": {},
   "outputs": [
    {
     "name": "stdout",
     "output_type": "stream",
     "text": [
      "Today's Date Is  2024-10-14\n"
     ]
    }
   ],
   "source": [
    "from datetime import date\n",
    "todays_date = date.today()\n",
    "print(\"Today's Date Is \", todays_date)"
   ]
  }
 ],
 "metadata": {
  "kernelspec": {
   "display_name": "Python 3",
   "language": "python",
   "name": "python3"
  },
  "language_info": {
   "codemirror_mode": {
    "name": "ipython",
    "version": 3
   },
   "file_extension": ".py",
   "mimetype": "text/x-python",
   "name": "python",
   "nbconvert_exporter": "python",
   "pygments_lexer": "ipython3",
   "version": "3.12.3"
  }
 },
 "nbformat": 4,
 "nbformat_minor": 2
}
